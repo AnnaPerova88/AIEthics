{
  "nbformat": 4,
  "nbformat_minor": 0,
  "metadata": {
    "colab": {
      "provenance": []
    },
    "kernelspec": {
      "name": "python3",
      "display_name": "Python 3"
    },
    "language_info": {
      "name": "python"
    }
  },
  "cells": [
    {
      "cell_type": "markdown",
      "source": [
        "# ===========================================\n",
        "# 📌 **Домашнее задание: Этическая классификация токсичности комментариев**\n",
        "# Задания 1–10. **Датасет: Civil Comments**\n",
        "# ==========================================="
      ],
      "metadata": {
        "id": "dvsbtPgRgLmf"
      }
    },
    {
      "cell_type": "code",
      "source": [
        "# 🛠 Установка библиотек (если требуется)\n",
        "!pip install -q scikit-learn pandas numpy"
      ],
      "metadata": {
        "id": "mq2HNYf-gRfx"
      },
      "execution_count": 1,
      "outputs": []
    },
    {
      "cell_type": "code",
      "source": [
        "# 📚 Импорт библиотек\n",
        "import numpy as np\n",
        "import pandas as pd\n",
        "from sklearn.model_selection import train_test_split\n",
        "from sklearn.feature_extraction.text import CountVectorizer\n",
        "from sklearn.linear_model import LogisticRegression\n",
        "from sklearn.metrics import accuracy_score"
      ],
      "metadata": {
        "id": "lDkp7vMyg-1R"
      },
      "execution_count": 2,
      "outputs": []
    },
    {
      "cell_type": "markdown",
      "source": [
        "# ===========================\n",
        "# 📦Загрузка и подготовка данных\n",
        "# (для всех заданий используется этот блок)\n",
        "# ==========================="
      ],
      "metadata": {
        "id": "WxvLCaBbhHCh"
      }
    },
    {
      "cell_type": "code",
      "source": [
        "# 🎲 Фиксируем random seed для воспроизводимости\n",
        "np.random.seed(0)"
      ],
      "metadata": {
        "id": "JH_y0rp_hERA"
      },
      "execution_count": 3,
      "outputs": []
    },
    {
      "cell_type": "code",
      "source": [
        "# 🔽 Загрузка CSV-файла\n",
        "data = pd.read_csv(\"/content/sample_data/data (1).csv\")"
      ],
      "metadata": {
        "id": "9fcC52cvhfcJ"
      },
      "execution_count": 5,
      "outputs": []
    },
    {
      "cell_type": "code",
      "source": [
        "# 🧾 Выделим колонки с комментариями и метками токсичности\n",
        "comments = data[\"comment_text\"]\n",
        "target = (data[\"target\"] > 0.7).astype(int)  # 1, если токсичный, иначе 0"
      ],
      "metadata": {
        "id": "d0nhrjcqhueH"
      },
      "execution_count": 6,
      "outputs": []
    },
    {
      "cell_type": "code",
      "source": [],
      "metadata": {
        "id": "lQnX259shxtg"
      },
      "execution_count": null,
      "outputs": []
    },
    {
      "cell_type": "markdown",
      "source": [
        "\n",
        "# ===========================================\n",
        "# ✅ Задание 1 — Разделение на train/test\n",
        "# ==========================================="
      ],
      "metadata": {
        "id": "VwExfMGNhzob"
      }
    },
    {
      "cell_type": "code",
      "source": [
        "X_train, X_test, y_train, y_test = train_test_split(\n",
        "    comments, target, test_size=0.3, random_state=0\n",
        ")"
      ],
      "metadata": {
        "id": "B5BWH_qzh1bo"
      },
      "execution_count": 7,
      "outputs": []
    },
    {
      "cell_type": "markdown",
      "source": [
        "# ==============================\n",
        "# ✅ Задание 2 — Преобразование текста в числа\n",
        "# =============================="
      ],
      "metadata": {
        "id": "99nirwYBh6YY"
      }
    },
    {
      "cell_type": "code",
      "source": [
        "# Используем CountVectorizer для векторизации текста\n",
        "vectorizer = CountVectorizer()\n",
        "X_train_vec = vectorizer.fit_transform(X_train)\n",
        "X_test_vec = vectorizer.transform(X_test)\n"
      ],
      "metadata": {
        "id": "KNfx8dCzh-qX"
      },
      "execution_count": 8,
      "outputs": []
    },
    {
      "cell_type": "markdown",
      "source": [
        "# ===========================================\n",
        "# ✅ Задание 3 — Обучение логистической регрессии\n",
        "# ==========================================="
      ],
      "metadata": {
        "id": "T_4Ax1ZmiICl"
      }
    },
    {
      "cell_type": "code",
      "source": [
        "classifier = LogisticRegression(max_iter=2000)\n",
        "classifier.fit(X_train_vec, y_train)"
      ],
      "metadata": {
        "colab": {
          "base_uri": "https://localhost:8080/",
          "height": 80
        },
        "id": "OKChnswNiJkt",
        "outputId": "815988e5-6b2d-42f1-f91b-c46de58f954f"
      },
      "execution_count": 9,
      "outputs": [
        {
          "output_type": "execute_result",
          "data": {
            "text/plain": [
              "LogisticRegression(max_iter=2000)"
            ],
            "text/html": [
              "<style>#sk-container-id-1 {\n",
              "  /* Definition of color scheme common for light and dark mode */\n",
              "  --sklearn-color-text: #000;\n",
              "  --sklearn-color-text-muted: #666;\n",
              "  --sklearn-color-line: gray;\n",
              "  /* Definition of color scheme for unfitted estimators */\n",
              "  --sklearn-color-unfitted-level-0: #fff5e6;\n",
              "  --sklearn-color-unfitted-level-1: #f6e4d2;\n",
              "  --sklearn-color-unfitted-level-2: #ffe0b3;\n",
              "  --sklearn-color-unfitted-level-3: chocolate;\n",
              "  /* Definition of color scheme for fitted estimators */\n",
              "  --sklearn-color-fitted-level-0: #f0f8ff;\n",
              "  --sklearn-color-fitted-level-1: #d4ebff;\n",
              "  --sklearn-color-fitted-level-2: #b3dbfd;\n",
              "  --sklearn-color-fitted-level-3: cornflowerblue;\n",
              "\n",
              "  /* Specific color for light theme */\n",
              "  --sklearn-color-text-on-default-background: var(--sg-text-color, var(--theme-code-foreground, var(--jp-content-font-color1, black)));\n",
              "  --sklearn-color-background: var(--sg-background-color, var(--theme-background, var(--jp-layout-color0, white)));\n",
              "  --sklearn-color-border-box: var(--sg-text-color, var(--theme-code-foreground, var(--jp-content-font-color1, black)));\n",
              "  --sklearn-color-icon: #696969;\n",
              "\n",
              "  @media (prefers-color-scheme: dark) {\n",
              "    /* Redefinition of color scheme for dark theme */\n",
              "    --sklearn-color-text-on-default-background: var(--sg-text-color, var(--theme-code-foreground, var(--jp-content-font-color1, white)));\n",
              "    --sklearn-color-background: var(--sg-background-color, var(--theme-background, var(--jp-layout-color0, #111)));\n",
              "    --sklearn-color-border-box: var(--sg-text-color, var(--theme-code-foreground, var(--jp-content-font-color1, white)));\n",
              "    --sklearn-color-icon: #878787;\n",
              "  }\n",
              "}\n",
              "\n",
              "#sk-container-id-1 {\n",
              "  color: var(--sklearn-color-text);\n",
              "}\n",
              "\n",
              "#sk-container-id-1 pre {\n",
              "  padding: 0;\n",
              "}\n",
              "\n",
              "#sk-container-id-1 input.sk-hidden--visually {\n",
              "  border: 0;\n",
              "  clip: rect(1px 1px 1px 1px);\n",
              "  clip: rect(1px, 1px, 1px, 1px);\n",
              "  height: 1px;\n",
              "  margin: -1px;\n",
              "  overflow: hidden;\n",
              "  padding: 0;\n",
              "  position: absolute;\n",
              "  width: 1px;\n",
              "}\n",
              "\n",
              "#sk-container-id-1 div.sk-dashed-wrapped {\n",
              "  border: 1px dashed var(--sklearn-color-line);\n",
              "  margin: 0 0.4em 0.5em 0.4em;\n",
              "  box-sizing: border-box;\n",
              "  padding-bottom: 0.4em;\n",
              "  background-color: var(--sklearn-color-background);\n",
              "}\n",
              "\n",
              "#sk-container-id-1 div.sk-container {\n",
              "  /* jupyter's `normalize.less` sets `[hidden] { display: none; }`\n",
              "     but bootstrap.min.css set `[hidden] { display: none !important; }`\n",
              "     so we also need the `!important` here to be able to override the\n",
              "     default hidden behavior on the sphinx rendered scikit-learn.org.\n",
              "     See: https://github.com/scikit-learn/scikit-learn/issues/21755 */\n",
              "  display: inline-block !important;\n",
              "  position: relative;\n",
              "}\n",
              "\n",
              "#sk-container-id-1 div.sk-text-repr-fallback {\n",
              "  display: none;\n",
              "}\n",
              "\n",
              "div.sk-parallel-item,\n",
              "div.sk-serial,\n",
              "div.sk-item {\n",
              "  /* draw centered vertical line to link estimators */\n",
              "  background-image: linear-gradient(var(--sklearn-color-text-on-default-background), var(--sklearn-color-text-on-default-background));\n",
              "  background-size: 2px 100%;\n",
              "  background-repeat: no-repeat;\n",
              "  background-position: center center;\n",
              "}\n",
              "\n",
              "/* Parallel-specific style estimator block */\n",
              "\n",
              "#sk-container-id-1 div.sk-parallel-item::after {\n",
              "  content: \"\";\n",
              "  width: 100%;\n",
              "  border-bottom: 2px solid var(--sklearn-color-text-on-default-background);\n",
              "  flex-grow: 1;\n",
              "}\n",
              "\n",
              "#sk-container-id-1 div.sk-parallel {\n",
              "  display: flex;\n",
              "  align-items: stretch;\n",
              "  justify-content: center;\n",
              "  background-color: var(--sklearn-color-background);\n",
              "  position: relative;\n",
              "}\n",
              "\n",
              "#sk-container-id-1 div.sk-parallel-item {\n",
              "  display: flex;\n",
              "  flex-direction: column;\n",
              "}\n",
              "\n",
              "#sk-container-id-1 div.sk-parallel-item:first-child::after {\n",
              "  align-self: flex-end;\n",
              "  width: 50%;\n",
              "}\n",
              "\n",
              "#sk-container-id-1 div.sk-parallel-item:last-child::after {\n",
              "  align-self: flex-start;\n",
              "  width: 50%;\n",
              "}\n",
              "\n",
              "#sk-container-id-1 div.sk-parallel-item:only-child::after {\n",
              "  width: 0;\n",
              "}\n",
              "\n",
              "/* Serial-specific style estimator block */\n",
              "\n",
              "#sk-container-id-1 div.sk-serial {\n",
              "  display: flex;\n",
              "  flex-direction: column;\n",
              "  align-items: center;\n",
              "  background-color: var(--sklearn-color-background);\n",
              "  padding-right: 1em;\n",
              "  padding-left: 1em;\n",
              "}\n",
              "\n",
              "\n",
              "/* Toggleable style: style used for estimator/Pipeline/ColumnTransformer box that is\n",
              "clickable and can be expanded/collapsed.\n",
              "- Pipeline and ColumnTransformer use this feature and define the default style\n",
              "- Estimators will overwrite some part of the style using the `sk-estimator` class\n",
              "*/\n",
              "\n",
              "/* Pipeline and ColumnTransformer style (default) */\n",
              "\n",
              "#sk-container-id-1 div.sk-toggleable {\n",
              "  /* Default theme specific background. It is overwritten whether we have a\n",
              "  specific estimator or a Pipeline/ColumnTransformer */\n",
              "  background-color: var(--sklearn-color-background);\n",
              "}\n",
              "\n",
              "/* Toggleable label */\n",
              "#sk-container-id-1 label.sk-toggleable__label {\n",
              "  cursor: pointer;\n",
              "  display: flex;\n",
              "  width: 100%;\n",
              "  margin-bottom: 0;\n",
              "  padding: 0.5em;\n",
              "  box-sizing: border-box;\n",
              "  text-align: center;\n",
              "  align-items: start;\n",
              "  justify-content: space-between;\n",
              "  gap: 0.5em;\n",
              "}\n",
              "\n",
              "#sk-container-id-1 label.sk-toggleable__label .caption {\n",
              "  font-size: 0.6rem;\n",
              "  font-weight: lighter;\n",
              "  color: var(--sklearn-color-text-muted);\n",
              "}\n",
              "\n",
              "#sk-container-id-1 label.sk-toggleable__label-arrow:before {\n",
              "  /* Arrow on the left of the label */\n",
              "  content: \"▸\";\n",
              "  float: left;\n",
              "  margin-right: 0.25em;\n",
              "  color: var(--sklearn-color-icon);\n",
              "}\n",
              "\n",
              "#sk-container-id-1 label.sk-toggleable__label-arrow:hover:before {\n",
              "  color: var(--sklearn-color-text);\n",
              "}\n",
              "\n",
              "/* Toggleable content - dropdown */\n",
              "\n",
              "#sk-container-id-1 div.sk-toggleable__content {\n",
              "  max-height: 0;\n",
              "  max-width: 0;\n",
              "  overflow: hidden;\n",
              "  text-align: left;\n",
              "  /* unfitted */\n",
              "  background-color: var(--sklearn-color-unfitted-level-0);\n",
              "}\n",
              "\n",
              "#sk-container-id-1 div.sk-toggleable__content.fitted {\n",
              "  /* fitted */\n",
              "  background-color: var(--sklearn-color-fitted-level-0);\n",
              "}\n",
              "\n",
              "#sk-container-id-1 div.sk-toggleable__content pre {\n",
              "  margin: 0.2em;\n",
              "  border-radius: 0.25em;\n",
              "  color: var(--sklearn-color-text);\n",
              "  /* unfitted */\n",
              "  background-color: var(--sklearn-color-unfitted-level-0);\n",
              "}\n",
              "\n",
              "#sk-container-id-1 div.sk-toggleable__content.fitted pre {\n",
              "  /* unfitted */\n",
              "  background-color: var(--sklearn-color-fitted-level-0);\n",
              "}\n",
              "\n",
              "#sk-container-id-1 input.sk-toggleable__control:checked~div.sk-toggleable__content {\n",
              "  /* Expand drop-down */\n",
              "  max-height: 200px;\n",
              "  max-width: 100%;\n",
              "  overflow: auto;\n",
              "}\n",
              "\n",
              "#sk-container-id-1 input.sk-toggleable__control:checked~label.sk-toggleable__label-arrow:before {\n",
              "  content: \"▾\";\n",
              "}\n",
              "\n",
              "/* Pipeline/ColumnTransformer-specific style */\n",
              "\n",
              "#sk-container-id-1 div.sk-label input.sk-toggleable__control:checked~label.sk-toggleable__label {\n",
              "  color: var(--sklearn-color-text);\n",
              "  background-color: var(--sklearn-color-unfitted-level-2);\n",
              "}\n",
              "\n",
              "#sk-container-id-1 div.sk-label.fitted input.sk-toggleable__control:checked~label.sk-toggleable__label {\n",
              "  background-color: var(--sklearn-color-fitted-level-2);\n",
              "}\n",
              "\n",
              "/* Estimator-specific style */\n",
              "\n",
              "/* Colorize estimator box */\n",
              "#sk-container-id-1 div.sk-estimator input.sk-toggleable__control:checked~label.sk-toggleable__label {\n",
              "  /* unfitted */\n",
              "  background-color: var(--sklearn-color-unfitted-level-2);\n",
              "}\n",
              "\n",
              "#sk-container-id-1 div.sk-estimator.fitted input.sk-toggleable__control:checked~label.sk-toggleable__label {\n",
              "  /* fitted */\n",
              "  background-color: var(--sklearn-color-fitted-level-2);\n",
              "}\n",
              "\n",
              "#sk-container-id-1 div.sk-label label.sk-toggleable__label,\n",
              "#sk-container-id-1 div.sk-label label {\n",
              "  /* The background is the default theme color */\n",
              "  color: var(--sklearn-color-text-on-default-background);\n",
              "}\n",
              "\n",
              "/* On hover, darken the color of the background */\n",
              "#sk-container-id-1 div.sk-label:hover label.sk-toggleable__label {\n",
              "  color: var(--sklearn-color-text);\n",
              "  background-color: var(--sklearn-color-unfitted-level-2);\n",
              "}\n",
              "\n",
              "/* Label box, darken color on hover, fitted */\n",
              "#sk-container-id-1 div.sk-label.fitted:hover label.sk-toggleable__label.fitted {\n",
              "  color: var(--sklearn-color-text);\n",
              "  background-color: var(--sklearn-color-fitted-level-2);\n",
              "}\n",
              "\n",
              "/* Estimator label */\n",
              "\n",
              "#sk-container-id-1 div.sk-label label {\n",
              "  font-family: monospace;\n",
              "  font-weight: bold;\n",
              "  display: inline-block;\n",
              "  line-height: 1.2em;\n",
              "}\n",
              "\n",
              "#sk-container-id-1 div.sk-label-container {\n",
              "  text-align: center;\n",
              "}\n",
              "\n",
              "/* Estimator-specific */\n",
              "#sk-container-id-1 div.sk-estimator {\n",
              "  font-family: monospace;\n",
              "  border: 1px dotted var(--sklearn-color-border-box);\n",
              "  border-radius: 0.25em;\n",
              "  box-sizing: border-box;\n",
              "  margin-bottom: 0.5em;\n",
              "  /* unfitted */\n",
              "  background-color: var(--sklearn-color-unfitted-level-0);\n",
              "}\n",
              "\n",
              "#sk-container-id-1 div.sk-estimator.fitted {\n",
              "  /* fitted */\n",
              "  background-color: var(--sklearn-color-fitted-level-0);\n",
              "}\n",
              "\n",
              "/* on hover */\n",
              "#sk-container-id-1 div.sk-estimator:hover {\n",
              "  /* unfitted */\n",
              "  background-color: var(--sklearn-color-unfitted-level-2);\n",
              "}\n",
              "\n",
              "#sk-container-id-1 div.sk-estimator.fitted:hover {\n",
              "  /* fitted */\n",
              "  background-color: var(--sklearn-color-fitted-level-2);\n",
              "}\n",
              "\n",
              "/* Specification for estimator info (e.g. \"i\" and \"?\") */\n",
              "\n",
              "/* Common style for \"i\" and \"?\" */\n",
              "\n",
              ".sk-estimator-doc-link,\n",
              "a:link.sk-estimator-doc-link,\n",
              "a:visited.sk-estimator-doc-link {\n",
              "  float: right;\n",
              "  font-size: smaller;\n",
              "  line-height: 1em;\n",
              "  font-family: monospace;\n",
              "  background-color: var(--sklearn-color-background);\n",
              "  border-radius: 1em;\n",
              "  height: 1em;\n",
              "  width: 1em;\n",
              "  text-decoration: none !important;\n",
              "  margin-left: 0.5em;\n",
              "  text-align: center;\n",
              "  /* unfitted */\n",
              "  border: var(--sklearn-color-unfitted-level-1) 1pt solid;\n",
              "  color: var(--sklearn-color-unfitted-level-1);\n",
              "}\n",
              "\n",
              ".sk-estimator-doc-link.fitted,\n",
              "a:link.sk-estimator-doc-link.fitted,\n",
              "a:visited.sk-estimator-doc-link.fitted {\n",
              "  /* fitted */\n",
              "  border: var(--sklearn-color-fitted-level-1) 1pt solid;\n",
              "  color: var(--sklearn-color-fitted-level-1);\n",
              "}\n",
              "\n",
              "/* On hover */\n",
              "div.sk-estimator:hover .sk-estimator-doc-link:hover,\n",
              ".sk-estimator-doc-link:hover,\n",
              "div.sk-label-container:hover .sk-estimator-doc-link:hover,\n",
              ".sk-estimator-doc-link:hover {\n",
              "  /* unfitted */\n",
              "  background-color: var(--sklearn-color-unfitted-level-3);\n",
              "  color: var(--sklearn-color-background);\n",
              "  text-decoration: none;\n",
              "}\n",
              "\n",
              "div.sk-estimator.fitted:hover .sk-estimator-doc-link.fitted:hover,\n",
              ".sk-estimator-doc-link.fitted:hover,\n",
              "div.sk-label-container:hover .sk-estimator-doc-link.fitted:hover,\n",
              ".sk-estimator-doc-link.fitted:hover {\n",
              "  /* fitted */\n",
              "  background-color: var(--sklearn-color-fitted-level-3);\n",
              "  color: var(--sklearn-color-background);\n",
              "  text-decoration: none;\n",
              "}\n",
              "\n",
              "/* Span, style for the box shown on hovering the info icon */\n",
              ".sk-estimator-doc-link span {\n",
              "  display: none;\n",
              "  z-index: 9999;\n",
              "  position: relative;\n",
              "  font-weight: normal;\n",
              "  right: .2ex;\n",
              "  padding: .5ex;\n",
              "  margin: .5ex;\n",
              "  width: min-content;\n",
              "  min-width: 20ex;\n",
              "  max-width: 50ex;\n",
              "  color: var(--sklearn-color-text);\n",
              "  box-shadow: 2pt 2pt 4pt #999;\n",
              "  /* unfitted */\n",
              "  background: var(--sklearn-color-unfitted-level-0);\n",
              "  border: .5pt solid var(--sklearn-color-unfitted-level-3);\n",
              "}\n",
              "\n",
              ".sk-estimator-doc-link.fitted span {\n",
              "  /* fitted */\n",
              "  background: var(--sklearn-color-fitted-level-0);\n",
              "  border: var(--sklearn-color-fitted-level-3);\n",
              "}\n",
              "\n",
              ".sk-estimator-doc-link:hover span {\n",
              "  display: block;\n",
              "}\n",
              "\n",
              "/* \"?\"-specific style due to the `<a>` HTML tag */\n",
              "\n",
              "#sk-container-id-1 a.estimator_doc_link {\n",
              "  float: right;\n",
              "  font-size: 1rem;\n",
              "  line-height: 1em;\n",
              "  font-family: monospace;\n",
              "  background-color: var(--sklearn-color-background);\n",
              "  border-radius: 1rem;\n",
              "  height: 1rem;\n",
              "  width: 1rem;\n",
              "  text-decoration: none;\n",
              "  /* unfitted */\n",
              "  color: var(--sklearn-color-unfitted-level-1);\n",
              "  border: var(--sklearn-color-unfitted-level-1) 1pt solid;\n",
              "}\n",
              "\n",
              "#sk-container-id-1 a.estimator_doc_link.fitted {\n",
              "  /* fitted */\n",
              "  border: var(--sklearn-color-fitted-level-1) 1pt solid;\n",
              "  color: var(--sklearn-color-fitted-level-1);\n",
              "}\n",
              "\n",
              "/* On hover */\n",
              "#sk-container-id-1 a.estimator_doc_link:hover {\n",
              "  /* unfitted */\n",
              "  background-color: var(--sklearn-color-unfitted-level-3);\n",
              "  color: var(--sklearn-color-background);\n",
              "  text-decoration: none;\n",
              "}\n",
              "\n",
              "#sk-container-id-1 a.estimator_doc_link.fitted:hover {\n",
              "  /* fitted */\n",
              "  background-color: var(--sklearn-color-fitted-level-3);\n",
              "}\n",
              "</style><div id=\"sk-container-id-1\" class=\"sk-top-container\"><div class=\"sk-text-repr-fallback\"><pre>LogisticRegression(max_iter=2000)</pre><b>In a Jupyter environment, please rerun this cell to show the HTML representation or trust the notebook. <br />On GitHub, the HTML representation is unable to render, please try loading this page with nbviewer.org.</b></div><div class=\"sk-container\" hidden><div class=\"sk-item\"><div class=\"sk-estimator fitted sk-toggleable\"><input class=\"sk-toggleable__control sk-hidden--visually\" id=\"sk-estimator-id-1\" type=\"checkbox\" checked><label for=\"sk-estimator-id-1\" class=\"sk-toggleable__label fitted sk-toggleable__label-arrow\"><div><div>LogisticRegression</div></div><div><a class=\"sk-estimator-doc-link fitted\" rel=\"noreferrer\" target=\"_blank\" href=\"https://scikit-learn.org/1.6/modules/generated/sklearn.linear_model.LogisticRegression.html\">?<span>Documentation for LogisticRegression</span></a><span class=\"sk-estimator-doc-link fitted\">i<span>Fitted</span></span></div></label><div class=\"sk-toggleable__content fitted\"><pre>LogisticRegression(max_iter=2000)</pre></div> </div></div></div></div>"
            ]
          },
          "metadata": {},
          "execution_count": 9
        }
      ]
    },
    {
      "cell_type": "code",
      "source": [
        "# Оценим точность модели\n",
        "y_pred = classifier.predict(X_test_vec)\n",
        "accuracy = accuracy_score(y_test, y_pred)\n",
        "print(f\"\\n🎯 Accuracy модели: {accuracy:.4f}\")"
      ],
      "metadata": {
        "colab": {
          "base_uri": "https://localhost:8080/"
        },
        "id": "J-2_vp3RiRVs",
        "outputId": "16d1c0d3-6df2-45c0-c8be-9b263486ba36"
      },
      "execution_count": 10,
      "outputs": [
        {
          "output_type": "stream",
          "name": "stdout",
          "text": [
            "\n",
            "🎯 Accuracy модели: 0.9285\n"
          ]
        }
      ]
    },
    {
      "cell_type": "code",
      "source": [],
      "metadata": {
        "id": "zYTugR84iU5P"
      },
      "execution_count": null,
      "outputs": []
    },
    {
      "cell_type": "markdown",
      "source": [
        "# ================================\n",
        "# ✅ Задание 4 — Функция предсказания токсичности\n",
        "# ================================"
      ],
      "metadata": {
        "id": "U234zJr3iW5R"
      }
    },
    {
      "cell_type": "code",
      "source": [
        "def predict_toxicity(comment):\n",
        "    \"\"\"Функция возвращает вероятность токсичности комментария\"\"\"\n",
        "    vec = vectorizer.transform([comment])\n",
        "    proba = classifier.predict_proba(vec)[0, 1]\n",
        "    return proba"
      ],
      "metadata": {
        "id": "15rfsoT1iaag"
      },
      "execution_count": 11,
      "outputs": []
    },
    {
      "cell_type": "code",
      "source": [],
      "metadata": {
        "id": "Z-K_qEIhifKR"
      },
      "execution_count": null,
      "outputs": []
    },
    {
      "cell_type": "markdown",
      "source": [
        "# ===============================\n",
        "# ✅ Задание 5 — Проверка на \"Apples are stupid\" и \"I love apples\"\n",
        "# ==============================="
      ],
      "metadata": {
        "id": "KMcfUzC-ihMy"
      }
    },
    {
      "cell_type": "code",
      "source": [
        "print(\"\\n🍏 Проверка предсказаний:\")\n",
        "print(f\"'Apples are stupid' → {predict_toxicity('Apples are stupid'):.4f}\")\n",
        "print(f\"'I love apples' → {predict_toxicity('I love apples'):.4f}\")"
      ],
      "metadata": {
        "colab": {
          "base_uri": "https://localhost:8080/"
        },
        "id": "A2qFl4C8ikrc",
        "outputId": "04d2e80d-1d1d-458d-96ee-59d02b27ac08"
      },
      "execution_count": 12,
      "outputs": [
        {
          "output_type": "stream",
          "name": "stdout",
          "text": [
            "\n",
            "🍏 Проверка предсказаний:\n",
            "'Apples are stupid' → 0.9995\n",
            "'I love apples' → 0.0986\n"
          ]
        }
      ]
    },
    {
      "cell_type": "markdown",
      "source": [
        "# ===========================================\n",
        "# ✅ Задание 6 — 10 самых токсичных слов и коэффициенты\n",
        "# ==========================================="
      ],
      "metadata": {
        "id": "A9U7KjHaissZ"
      }
    },
    {
      "cell_type": "code",
      "source": [
        "# Получаем список всех слов (признаков)\n",
        "feature_names = np.array(vectorizer.get_feature_names_out())\n",
        "coefficients = classifier.coef_[0]  # Веса модели"
      ],
      "metadata": {
        "id": "jMg3m-2Iivbr"
      },
      "execution_count": 13,
      "outputs": []
    },
    {
      "cell_type": "code",
      "source": [
        "# Индексы 10 слов с наибольшими коэффициентами\n",
        "top10_idx = np.argsort(coefficients)[-10:][::-1]"
      ],
      "metadata": {
        "id": "t512k2_IizI_"
      },
      "execution_count": 14,
      "outputs": []
    },
    {
      "cell_type": "code",
      "source": [
        "print(\"\\n🔥 Топ-10 токсичных слов и их веса:\")\n",
        "for idx in top10_idx:\n",
        "    print(f\"{feature_names[idx]}: {coefficients[idx]:.4f}\")"
      ],
      "metadata": {
        "colab": {
          "base_uri": "https://localhost:8080/"
        },
        "id": "N2g8oCuhi2Fz",
        "outputId": "9f9b9e6c-ca2c-46e1-c6b5-874d3d6b4a3a"
      },
      "execution_count": 15,
      "outputs": [
        {
          "output_type": "stream",
          "name": "stdout",
          "text": [
            "\n",
            "🔥 Топ-10 токсичных слов и их веса:\n",
            "stupid: 9.5496\n",
            "idiot: 8.6762\n",
            "idiots: 8.6292\n",
            "stupidity: 7.5847\n",
            "idiotic: 6.8082\n",
            "crap: 6.5476\n",
            "dumb: 6.5281\n",
            "pathetic: 6.4570\n",
            "morons: 6.3474\n",
            "moron: 6.3433\n"
          ]
        }
      ]
    },
    {
      "cell_type": "code",
      "source": [],
      "metadata": {
        "id": "WRvJcAdOi59j"
      },
      "execution_count": null,
      "outputs": []
    },
    {
      "cell_type": "markdown",
      "source": [
        "# ===============================\n",
        "# ✅ Задание 7 — Рефлексия\n",
        "# ===============================\n",
        "#\n",
        "# ➤ Какие из слов вас удивили? Какие не должны считаться токсичными?\n",
        "# ➤ Это может указывать на ошибку в обучающем датасете или контексте."
      ],
      "metadata": {
        "id": "BJ8G36Xki9sy"
      }
    },
    {
      "cell_type": "markdown",
      "source": [
        "### Результаты в целом логичны: все представленные слова являются выражениями с ярко негативной окраской, направленной на унижение собеседника или других людей. Эти слова носят либо оскорбительный, либо пренебрежительный характер. Однако при этом у меня возникли некоторые мысли:\n",
        "\n",
        "### **Ожидаемые понятия:**\n",
        "\n",
        "* Слова вроде idiot, moron, dumb, stupid — это типичные примеры прямой вербальной агрессии. Их высокая токсичность очевидна и подтверждается их частым использованием в интернет-среде в оскорбительном контексте.\n",
        "\n",
        "* Такие слова, как crap и pathetic, тоже логично оказались в списке: они часто используются в обесценивании мнения или личности оппонента.\n",
        "\n",
        "### **Интересные наблюдения**:\n",
        "\n",
        "* Все слова в списке являются универсально негативными и, скорее всего, используются как личностные оценки, а не как описание темы или явления. Это подчёркивает, что модель хорошо уловила именно лингвистические маркеры токсичности.\n",
        "\n",
        "### **Что могло бы вызывать беспокойство:**\n",
        "\n",
        "* В данном списке нет слов, связанных с темами религии, этничности, пола и т.д. — и это хорошо. Однако если бы в этот топ попали слова вроде muslim, jew, black, gay и др., я бы задумалась о наличии исторической или социальной предвзятости модели.\n",
        "\n",
        "* Тем не менее, в других примерах (задание 8), мы уже наблюдали, что слова, связанные с религией или расой, могут вызывать искажения в классификации. Следовательно, сама модель может демонстрировать предвзятость — просто не обязательно через топ-10 слов.\n",
        "\n",
        "### **Вывод:**\n",
        "* Слова, вошедшие в топ-10, подтверждают, что модель научилась «распознавать» прямую токсичную лексику. Однако её способность учитывать контекст и различать оскорбления от нейтрального употребления нуждается в дальнейшем улучшении. Кроме того, важно дополнительно проверять модель на скрытую предвзятость, особенно по чувствительным категориям.\n",
        "\n"
      ],
      "metadata": {
        "id": "VQwbH2G1kDk7"
      }
    },
    {
      "cell_type": "markdown",
      "source": [
        "# ========================\n",
        "# ✅ Задание 8 — Тест на bias модели\n",
        "# ========================"
      ],
      "metadata": {
        "id": "kQB23nvzjPKh"
      }
    },
    {
      "cell_type": "code",
      "source": [
        "\n",
        "\n",
        "print(\"\\n🧪 Тест на возможную предвзятость (bias):\")\n",
        "bias_test_comments = [\n",
        "    \"I have a christian friend\",\n",
        "    \"I have a muslim friend\",\n",
        "    \"I have a white friend\",\n",
        "    \"I have a black friend\"\n",
        "]\n",
        "\n",
        "for comment in bias_test_comments:\n",
        "    print(f\"{comment} → {predict_toxicity(comment):.4f}\")\n",
        "\n",
        "# ==========================================="
      ],
      "metadata": {
        "colab": {
          "base_uri": "https://localhost:8080/"
        },
        "id": "fGvr2dNhjEBc",
        "outputId": "38778955-41d7-464d-809a-38d0d0b853d9"
      },
      "execution_count": 16,
      "outputs": [
        {
          "output_type": "stream",
          "name": "stdout",
          "text": [
            "\n",
            "🧪 Тест на возможную предвзятость (bias):\n",
            "I have a christian friend → 0.1217\n",
            "I have a muslim friend → 0.4446\n",
            "I have a white friend → 0.3270\n",
            "I have a black friend → 0.5155\n"
          ]
        }
      ]
    },
    {
      "cell_type": "markdown",
      "source": [
        "# =============================\n",
        " # ✅ Задание 9 — Тип предвзятости (комментарий)\n",
        "# =============================\n",
        "\n",
        "\n"
      ],
      "metadata": {
        "id": "X7okB6REjYfg"
      }
    },
    {
      "cell_type": "markdown",
      "source": [
        "Более подробный ответ\n",
        "\n",
        "###  В рамках теста на предвзятость я провела проверку модели на четырёх конструкциях, которые по своей сути являются нейтральными:\n",
        "\n",
        "* \"I have a christian friend\" → 0.1217\n",
        "* \"I have a muslim friend\" → 0.4446\n",
        "* \"I have a white friend\" → 0.3270\n",
        "* \"I have a black friend\" → 0.5155\n",
        "\n",
        "### **💬 Мои наблюдения:**\n",
        "* Семантически все фразы идентичны — они выражают наличие друга определённой религии или расы, без какой-либо негативной оценки. Однако предсказания модели варьируются достаточно сильно.\n",
        "\n",
        "* Наиболее \"токсичной\" модель сочла фразу \"I have a black friend\" (0.5155) — вероятность токсичности выше 0.5, что может привести к её ошибочной классификации как токсичной.\n",
        "\n",
        "* Фраза \"I have a muslim friend\" также получила сравнительно высокую вероятность токсичности (0.4446), особенно в контексте того, что аналогичная фраза про \"christian friend\" оценена значительно ниже (0.1217).\n",
        "\n",
        "* Фраза с “white friend” получила промежуточное значение (0.3270), но тоже выше, чем для “christian friend”.\n",
        "\n",
        "### **💬 Выводы:**\n",
        "* Модель демонстрирует признаки социальной и исторической предвзятости, унаследованной от распределения данных в оригинальном датасете. Скорее всего, в обучающем корпусе слова muslim, black и white встречались в токсичных контекстах чаще, чем christian, из-за чего они получили более высокие веса в классификации.\n",
        "\n",
        "* Это яркий пример того, как социальные предубеждения, присутствующие в обществе и отражённые в данных, транслируются в алгоритмы, даже если мы не задавали никаких явных параметров, связанных с расой или религией. Такая модель может в будущем:\n",
        "\n",
        "* ошибочно маркировать нейтральные комментарии как токсичные;\n",
        "усиливать дискриминацию; снижать доверие к ИИ-инструментам в чувствительных сферах.\n",
        "\n",
        "### **💬 Этика и решение:**\n",
        "\n",
        "* Важно учитывать подобные искажения при построении и внедрении моделей ИИ. Даже простые baseline-модели, как эта, уже могут неосознанно воспроизводить и закреплять социальные предрассудки. Чтобы минимизировать bias, необходимо:\n",
        "* применять методы дебиасинга при подготовке данных;\n",
        "* использовать сбалансированные датасеты;\n",
        "* анализировать поведение модели на чувствительных категориях;\n",
        "* привлекать специалистов по этике на этапах разработки."
      ],
      "metadata": {
        "id": "RQUtP97QlF2f"
      }
    },
    {
      "cell_type": "markdown",
      "source": [
        "# ===========================================\n",
        "# ✅ Задание 10 — Идеи по улучшению этичности модели\n",
        "# ==========================================="
      ],
      "metadata": {
        "id": "yd3y7wCPjkMF"
      }
    },
    {
      "cell_type": "code",
      "source": [
        "\n",
        "print(\"\\n💡 Идеи по улучшению модели:\")\n",
        "print(\"1. Исключить из датасета чувствительные признаки (религия, раса и т.п.) или уравновесить их.\")\n",
        "print(\"2. Применить дебиасинг словарей — пересчитать веса для чувствительных токенов.\")\n",
        "print(\"3. Использовать интерпретируемые методы (например, LIME, SHAP) для аудита модели.\")"
      ],
      "metadata": {
        "colab": {
          "base_uri": "https://localhost:8080/"
        },
        "id": "5EbXYl3Vjalr",
        "outputId": "0eceee14-1820-4095-f162-32171da3098c"
      },
      "execution_count": 18,
      "outputs": [
        {
          "output_type": "stream",
          "name": "stdout",
          "text": [
            "\n",
            "💡 Идеи по улучшению модели:\n",
            "1. Исключить из датасета чувствительные признаки (религия, раса и т.п.) или уравновесить их.\n",
            "2. Применить дебиасинг словарей — пересчитать веса для чувствительных токенов.\n",
            "3. Использовать интерпретируемые методы (например, LIME, SHAP) для аудита модели.\n"
          ]
        }
      ]
    }
  ]
}